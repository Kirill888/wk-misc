{
 "cells": [
  {
   "cell_type": "code",
   "execution_count": 1,
   "metadata": {},
   "outputs": [],
   "source": [
    "from dask.distributed import (\n",
    "    Client, \n",
    "    progress as dask_progress,\n",
    "    wait as dask_wait,\n",
    ")\n",
    "import os\n",
    "import dask\n",
    "\n",
    "# configure dashboard link to go over proxy\n",
    "dask.config.set({\"distributed.dashboard.link\":\n",
    "                 os.environ.get('JUPYTERHUB_SERVICE_PREFIX', '/')+\"proxy/{port}/status\"});"
   ]
  },
  {
   "cell_type": "code",
   "execution_count": 2,
   "metadata": {},
   "outputs": [
    {
     "data": {
      "text/html": [
       "<table style=\"border: 2px solid white;\">\n",
       "<tr>\n",
       "<td style=\"vertical-align: top; border: 0px solid white\">\n",
       "<h3 style=\"text-align: left;\">Client</h3>\n",
       "<ul style=\"text-align: left; list-style: none; margin: 0; padding: 0;\">\n",
       "  <li><b>Scheduler: </b>tcp://dask-scheduler:8786</li>\n",
       "  <li><b>Dashboard: </b><a href='/proxy/8787/status' target='_blank'>/proxy/8787/status</a>\n",
       "</ul>\n",
       "</td>\n",
       "<td style=\"vertical-align: top; border: 0px solid white\">\n",
       "<h3 style=\"text-align: left;\">Cluster</h3>\n",
       "<ul style=\"text-align: left; list-style:none; margin: 0; padding: 0;\">\n",
       "  <li><b>Workers: </b>1</li>\n",
       "  <li><b>Cores: </b>16</li>\n",
       "  <li><b>Memory: </b>128.85 GB</li>\n",
       "</ul>\n",
       "</td>\n",
       "</tr>\n",
       "</table>"
      ],
      "text/plain": [
       "<Client: 'tcp://10.0.102.4:8786' processes=1 threads=16, memory=128.85 GB>"
      ]
     },
     "metadata": {},
     "output_type": "display_data"
    }
   ],
   "source": [
    "from datacube.utils.rio import configure_s3_access\n",
    "\n",
    "client = Client('tcp://dask-scheduler:8786')\n",
    "display(client)\n",
    "\n",
    "if False:\n",
    "    client.restart()\n",
    "\n",
    "if not client.get_metadata('odc_s3', False):\n",
    "    # Configure GDAL for s3 access\n",
    "    print('Configuring S3 read')\n",
    "    configure_s3_access(aws_unsigned=True,  # works only when reading public resources\n",
    "                        client=client)\n",
    "    client.set_metadata('odc_s3', True)\n"
   ]
  },
  {
   "cell_type": "code",
   "execution_count": 3,
   "metadata": {},
   "outputs": [],
   "source": [
    "from botocore.credentials import ReadOnlyCredentials\n",
    "import os\n",
    "\n",
    "creds = ReadOnlyCredentials(\n",
    "    os.environ['S3_WRITE_KEY'],\n",
    "    os.environ['S3_WRITE_SECRET'], None)\n"
   ]
  },
  {
   "cell_type": "code",
   "execution_count": 4,
   "metadata": {},
   "outputs": [],
   "source": [
    "from datacube.utils.cog import write_cog, to_cog\n",
    "from datacube.utils.dask import save_blob_to_s3\n",
    "from datacube import Datacube\n",
    "import odc.algo\n",
    "from odc.index import utm_region_code\n",
    "\n",
    "\n",
    "dc = Datacube()"
   ]
  },
  {
   "cell_type": "code",
   "execution_count": 5,
   "metadata": {},
   "outputs": [],
   "source": [
    "dss = dc.find_datasets(product='s2_gm_seasonal')"
   ]
  },
  {
   "cell_type": "code",
   "execution_count": 6,
   "metadata": {},
   "outputs": [
    {
     "data": {
      "text/plain": [
       "{32749, 32750, 32751, 32752, 32753, 32754, 32755, 32756}"
      ]
     },
     "execution_count": 6,
     "metadata": {},
     "output_type": "execute_result"
    }
   ],
   "source": [
    "all_epsgs = set(ds.crs.epsg for ds in dss)\n",
    "all_epsgs"
   ]
  },
  {
   "cell_type": "code",
   "execution_count": 7,
   "metadata": {},
   "outputs": [
    {
     "data": {
      "text/plain": [
       "[32749, 32750, 32751, 32752, 32753, 32754, 32755, 32756]"
      ]
     },
     "execution_count": 7,
     "metadata": {},
     "output_type": "execute_result"
    }
   ],
   "source": [
    "dss_by_epsg = {}\n",
    "for ds in dss:\n",
    "    dss_by_epsg.setdefault(ds.crs.epsg, []).append(ds)\n",
    "list(dss_by_epsg)"
   ]
  },
  {
   "cell_type": "code",
   "execution_count": 8,
   "metadata": {},
   "outputs": [],
   "source": [
    "#client.restart()"
   ]
  },
  {
   "cell_type": "code",
   "execution_count": 9,
   "metadata": {},
   "outputs": [],
   "source": [
    "from types import SimpleNamespace\n",
    "\n",
    "def mk_task(epsg, \n",
    "            prefix='s3://dea-public-data-dev/temp/s2_gm/seasonal/v0/combined/thumbs/'):\n",
    "    out_file = f'{prefix}s2_gm_2019_jja_{utm_region_code(epsg)}_rgba.tif'\n",
    "    _dss = dss_by_epsg[epsg]\n",
    "    \n",
    "    xx = dc.load(datasets=_dss,\n",
    "             measurements=['red', 'green', 'blue'],\n",
    "             output_crs=_dss[0].crs,\n",
    "             resolution=(-40,40),\n",
    "             dask_chunks={'x': 5000, 'y': 5000}\n",
    "            ).isel(time=0)\n",
    "\n",
    "    rgba = odc.algo.to_rgba(xx, clamp=3000)\n",
    "    cog_bytes = to_cog(rgba, \n",
    "                       blocksize=1024,\n",
    "                       overview_levels=[2,4,8,16,32],\n",
    "                       overview_resampling='bilinear')\n",
    "    \n",
    "    tif_save = save_blob_to_s3(cog_bytes,\n",
    "                    out_file,\n",
    "                    creds=creds,\n",
    "                    ContentType=\"image/tiff\")\n",
    "    \n",
    "\n",
    "    \n",
    "    return SimpleNamespace(\n",
    "        tif_save=tif_save,\n",
    "        xx=xx,\n",
    "        rgba=rgba,\n",
    "        cog_bytes=cog_bytes,\n",
    "        out_file=out_file,\n",
    "    )\n",
    "\n",
    "tasks = [mk_task(epsg) for epsg in dss_by_epsg]"
   ]
  },
  {
   "cell_type": "code",
   "execution_count": 10,
   "metadata": {},
   "outputs": [],
   "source": [
    "import toolz"
   ]
  },
  {
   "cell_type": "code",
   "execution_count": 14,
   "metadata": {},
   "outputs": [],
   "source": [
    "_keep = tt"
   ]
  },
  {
   "cell_type": "code",
   "execution_count": 16,
   "metadata": {},
   "outputs": [
    {
     "name": "stdout",
     "output_type": "stream",
     "text": [
      "('s3://dea-public-data-dev/temp/s2_gm/seasonal/v0/combined/thumbs/s2_gm_2019_jja_51S_rgba.tif', True)\n",
      "('s3://dea-public-data-dev/temp/s2_gm/seasonal/v0/combined/thumbs/s2_gm_2019_jja_52S_rgba.tif', True)\n",
      "('s3://dea-public-data-dev/temp/s2_gm/seasonal/v0/combined/thumbs/s2_gm_2019_jja_53S_rgba.tif', True)\n",
      "('s3://dea-public-data-dev/temp/s2_gm/seasonal/v0/combined/thumbs/s2_gm_2019_jja_54S_rgba.tif', True)\n",
      "('s3://dea-public-data-dev/temp/s2_gm/seasonal/v0/combined/thumbs/s2_gm_2019_jja_55S_rgba.tif', True)\n",
      "('s3://dea-public-data-dev/temp/s2_gm/seasonal/v0/combined/thumbs/s2_gm_2019_jja_56S_rgba.tif', True)\n"
     ]
    }
   ],
   "source": [
    "for cch in toolz.partition_all(3, tasks[2:]):\n",
    "    tt = []\n",
    "    for task in cch:\n",
    "        tt.append(client.compute(task.tif_save))\n",
    "\n",
    "    for t in tt:\n",
    "        print(t.result())\n"
   ]
  },
  {
   "cell_type": "code",
   "execution_count": 12,
   "metadata": {},
   "outputs": [],
   "source": [
    "#client.restart()"
   ]
  },
  {
   "cell_type": "code",
   "execution_count": null,
   "metadata": {},
   "outputs": [],
   "source": []
  }
 ],
 "metadata": {
  "kernelspec": {
   "display_name": "Python 3",
   "language": "python",
   "name": "python3"
  },
  "language_info": {
   "codemirror_mode": {
    "name": "ipython",
    "version": 3
   },
   "file_extension": ".py",
   "mimetype": "text/x-python",
   "name": "python",
   "nbconvert_exporter": "python",
   "pygments_lexer": "ipython3",
   "version": "3.6.9"
  }
 },
 "nbformat": 4,
 "nbformat_minor": 4
}
