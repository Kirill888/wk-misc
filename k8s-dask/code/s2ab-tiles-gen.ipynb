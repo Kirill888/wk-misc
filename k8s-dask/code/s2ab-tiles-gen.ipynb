{
 "cells": [
  {
   "cell_type": "code",
   "execution_count": null,
   "metadata": {},
   "outputs": [],
   "source": [
    "%load_ext autoreload\n",
    "%autoreload 2"
   ]
  },
  {
   "cell_type": "code",
   "execution_count": null,
   "metadata": {},
   "outputs": [],
   "source": [
    "import pickle\n",
    "from pathlib import Path\n",
    "import gzip\n",
    "\n",
    "import s2gm\n",
    "from datacube import Datacube\n",
    "import odc.index\n",
    "\n",
    "dc = Datacube()\n",
    "cfg = s2gm.load_config('gmcfg.toml')\n",
    "\n",
    "dss_pkl = Path(f'dss_{cfg.year}_{cfg.season}.pkl.gz')\n",
    "tasks_pkl = Path(f'tasks_{cfg.year}_{cfg.season}.pkl.gz')"
   ]
  },
  {
   "cell_type": "code",
   "execution_count": null,
   "metadata": {},
   "outputs": [],
   "source": [
    "%%time\n",
    "\n",
    "if dss_pkl.exists():\n",
    "    print('Load from pickle', end='')\n",
    "    _dss = pickle.load(gzip.open(dss_pkl, 'rb'))\n",
    "else:\n",
    "\n",
    "    print(f'Querying DB: {cfg.period}')\n",
    "    _dss = []\n",
    "    for p in cfg.products:\n",
    "        _dss.extend(dc.find_datasets_lazy(product=p, time=cfg.period))\n",
    "        \n",
    "    print('Pickling', end='')\n",
    "    pickle.dump(_dss, gzip.open(dss_pkl, 'wb'))\n",
    "    \n",
    "print(' ...done')\n",
    "print(f'Total of {len(_dss):,} datasets for {cfg.year}-{cfg.season}')"
   ]
  },
  {
   "cell_type": "code",
   "execution_count": null,
   "metadata": {},
   "outputs": [],
   "source": [
    "%%time\n",
    "\n",
    "tasks = s2gm.dss_to_tasks(_dss, cfg)"
   ]
  },
  {
   "cell_type": "code",
   "execution_count": null,
   "metadata": {},
   "outputs": [],
   "source": [
    "list(t.region for t in tasks)[:10], set(t.region[0] for t in tasks)"
   ]
  },
  {
   "cell_type": "code",
   "execution_count": null,
   "metadata": {},
   "outputs": [],
   "source": [
    "len(set(map(lambda t: t.uuid, tasks))), len(tasks)"
   ]
  },
  {
   "cell_type": "code",
   "execution_count": null,
   "metadata": {},
   "outputs": [],
   "source": [
    "print(f\"Saving to: {tasks_pkl}\", end='')\n",
    "pickle.dump(tasks, gzip.open(tasks_pkl, 'wb'))\n",
    "print(\" ... done\")\n",
    "!ls -lh *pkl.gz"
   ]
  },
  {
   "cell_type": "markdown",
   "metadata": {},
   "source": [
    "----------------------------------------------------------------"
   ]
  }
 ],
 "metadata": {
  "kernelspec": {
   "display_name": "Python 3",
   "language": "python",
   "name": "python3"
  },
  "language_info": {
   "codemirror_mode": {
    "name": "ipython",
    "version": 3
   },
   "file_extension": ".py",
   "mimetype": "text/x-python",
   "name": "python",
   "nbconvert_exporter": "python",
   "pygments_lexer": "ipython3",
   "version": "3.6.9"
  },
  "widgets": {
   "application/vnd.jupyter.widget-state+json": {
    "state": {},
    "version_major": 2,
    "version_minor": 0
   }
  }
 },
 "nbformat": 4,
 "nbformat_minor": 4
}
