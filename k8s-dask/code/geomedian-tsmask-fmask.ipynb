{
 "cells": [
  {
   "cell_type": "code",
   "execution_count": null,
   "metadata": {},
   "outputs": [],
   "source": [
    "%matplotlib inline\n",
    "from matplotlib import pyplot as plt\n",
    "import numpy as np\n",
    "import xarray as xr"
   ]
  },
  {
   "cell_type": "markdown",
   "metadata": {},
   "source": [
    "## Setup local dask cluster"
   ]
  },
  {
   "cell_type": "code",
   "execution_count": null,
   "metadata": {},
   "outputs": [],
   "source": [
    "from datacube.utils.rio import configure_s3_access\n",
    "from datacube.utils.dask import start_local_dask\n",
    "import os\n",
    "import dask\n",
    "\n",
    "# configure dashboard link to go over proxy\n",
    "dask.config.set({\"distributed.dashboard.link\":\n",
    "                 os.environ.get('JUPYTERHUB_SERVICE_PREFIX', '/')+\"proxy/{port}/status\"});\n",
    "\n",
    "# close previos client if any, so that one can re-run this cell without issues\n",
    "client = locals().get('client', None)\n",
    "if client is not None:\n",
    "    client.close()\n",
    "    del client\n",
    "    \n",
    "client = start_local_dask(n_workers=1,\n",
    "                          threads_per_worker=4, \n",
    "                          mem_safety_margin='4G')\n",
    "display(client)\n",
    "\n",
    "# Configure GDAL for s3 access \n",
    "configure_s3_access(aws_unsigned=True,  # works only when reading public resources\n",
    "                    client=client);"
   ]
  },
  {
   "cell_type": "code",
   "execution_count": null,
   "metadata": {},
   "outputs": [],
   "source": [
    "from datacube import Datacube\n",
    "import odc.algo\n",
    "\n",
    "dc = Datacube()"
   ]
  },
  {
   "cell_type": "code",
   "execution_count": null,
   "metadata": {},
   "outputs": [],
   "source": [
    "region_code, time = '55HGU', ('2019-06-01', '2019-08-31')\n",
    "mode = 'tsmask' # fmask | tsmask | nomask\n",
    "_roi = dict(x=np.s_[0:3000], y=np.s_[5000:8000])\n",
    "\n",
    "dss = []\n",
    "for p in ['ga_s2a_ard_nbar_granule', 'ga_s2b_ard_nbar_granule']:\n",
    "    dss += dc.find_datasets(product=p, \n",
    "                            region_code=region_code, \n",
    "                            time=time)\n",
    "\n",
    "tsm_dss = dc.find_datasets(product='s2_tsmask', \n",
    "                           time=time,\n",
    "                           region_code=region_code\n",
    "                           )\n",
    "len(dss), len(tsm_dss)"
   ]
  },
  {
   "cell_type": "markdown",
   "metadata": {},
   "source": [
    "## Do native load (lazy version with Dask)"
   ]
  },
  {
   "cell_type": "code",
   "execution_count": null,
   "metadata": {},
   "outputs": [],
   "source": [
    "data_bands = [\n",
    " 'nbar_blue',\n",
    " 'nbar_green',\n",
    " 'nbar_red',\n",
    "]\n",
    "mask_bands = ['fmask']\n",
    "chunks = dict(x=1000, y=1000)\n",
    "\n",
    "xx = dc.load(output_crs=dss[0].crs,\n",
    "             resolution=(-10, 10),\n",
    "             align=(0, 0),\n",
    "             measurements=data_bands + mask_bands,\n",
    "             group_by='solar_day',\n",
    "             datasets=dss, \n",
    "             dask_chunks=chunks)\n",
    "\n",
    "tsm = dc.load(product='s2_tsmask',\n",
    "              like=xx.geobox,\n",
    "              datasets=tsm_dss, \n",
    "              dask_chunks=chunks)\n",
    "tsm"
   ]
  },
  {
   "cell_type": "code",
   "execution_count": null,
   "metadata": {},
   "outputs": [],
   "source": [
    "# Select a smalled sub-section, to speed up testing\n",
    "if _roi:\n",
    "    xx = xx.isel(**_roi)\n",
    "    tsm = tsm.isel(**_roi)"
   ]
  },
  {
   "cell_type": "code",
   "execution_count": null,
   "metadata": {},
   "outputs": [],
   "source": [
    "xx_data = xx[data_bands]\n",
    "\n",
    "fm_nocloud  = odc.algo.fmask_to_bool(xx.fmask, ('water', 'snow', 'valid'))\n",
    "tsm_nocloud = odc.algo.fmask_to_bool(tsm.classification, ('valid',))\n",
    "\n",
    "if mode == 'tsmask':\n",
    "    nocloud = tsm_nocloud\n",
    "elif mode == 'fmask':\n",
    "    nocloud = fm_nocloud\n",
    "elif mode == 'nomask':\n",
    "    nocloud = None\n",
    "else:\n",
    "    raise ValueError(f'Expect mode to be one of fmask|tsmask|nomask')\n",
    "    \n",
    "if nocloud is not None:\n",
    "    xx_clean = odc.algo.keep_good_only(xx_data, where=nocloud)\n",
    "else:\n",
    "    xx_clean = xx_data\n",
    "    "
   ]
  },
  {
   "cell_type": "code",
   "execution_count": null,
   "metadata": {},
   "outputs": [],
   "source": [
    "scale, offset = (1/10_000, 0)  # differs per product, aim for 0-1 values in float32\n",
    "yy = odc.algo.int_geomedian(xx_clean, scale=scale, offset=offset)\n",
    "rgba = odc.algo.to_rgba(yy, clamp=3000)\n",
    "rgba.data"
   ]
  },
  {
   "cell_type": "markdown",
   "metadata": {},
   "source": [
    "## Now we can run the computation"
   ]
  },
  {
   "cell_type": "code",
   "execution_count": null,
   "metadata": {},
   "outputs": [],
   "source": [
    "%%time\n",
    "rgba = rgba.compute()"
   ]
  },
  {
   "cell_type": "markdown",
   "metadata": {},
   "source": [
    "## Display result"
   ]
  },
  {
   "cell_type": "code",
   "execution_count": null,
   "metadata": {},
   "outputs": [],
   "source": [
    "import odc.ui\n",
    "from IPython.display import Image\n",
    "\n",
    "if max(rgba.shape) < 4000:\n",
    "    display(Image(odc.ui.to_jpeg_data(rgba.data)))\n",
    "else:\n",
    "    print('image too large to show')"
   ]
  },
  {
   "cell_type": "markdown",
   "metadata": {},
   "source": [
    "## Save COG"
   ]
  },
  {
   "cell_type": "code",
   "execution_count": null,
   "metadata": {},
   "outputs": [],
   "source": [
    "from datacube.utils.cog import write_cog\n",
    "\n",
    "fname = f\"S2GM-{region_code}-{mode}-rgba.tif\"\n",
    "print(fname)\n",
    "write_cog(rgba, fname,\n",
    "          overwrite=True,\n",
    "          overview_resampling='bilinear', \n",
    "          overview_levels=[2,4,8,16], \n",
    "          zlevel=4)"
   ]
  },
  {
   "cell_type": "markdown",
   "metadata": {},
   "source": [
    "------------------------------------------------------------------"
   ]
  }
 ],
 "metadata": {
  "kernelspec": {
   "display_name": "Python 3",
   "language": "python",
   "name": "python3"
  },
  "language_info": {
   "codemirror_mode": {
    "name": "ipython",
    "version": 3
   },
   "file_extension": ".py",
   "mimetype": "text/x-python",
   "name": "python",
   "nbconvert_exporter": "python",
   "pygments_lexer": "ipython3",
   "version": "3.6.9"
  },
  "widgets": {
   "application/vnd.jupyter.widget-state+json": {
    "state": {},
    "version_major": 2,
    "version_minor": 0
   }
  }
 },
 "nbformat": 4,
 "nbformat_minor": 4
}
