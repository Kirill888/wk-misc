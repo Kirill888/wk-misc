{
 "cells": [
  {
   "cell_type": "code",
   "execution_count": null,
   "metadata": {},
   "outputs": [],
   "source": [
    "%matplotlib inline\n",
    "from matplotlib import pyplot as plt\n",
    "import numpy as np\n",
    "import xarray as xr\n",
    "import os"
   ]
  },
  {
   "cell_type": "code",
   "execution_count": null,
   "metadata": {},
   "outputs": [],
   "source": [
    "import dask\n",
    "from dask import array as da\n",
    "from dask.distributed import Client"
   ]
  },
  {
   "cell_type": "code",
   "execution_count": null,
   "metadata": {},
   "outputs": [],
   "source": [
    "mode, quick = 'local', True\n",
    "local_mem = 8\n",
    "\n",
    "if mode in ('local', 'inproc'):\n",
    "    dask.config.set({\"distributed.dashboard.link\": (\n",
    "    os.environ.get('JUPYTERHUB_SERVICE_PREFIX', '/') +\n",
    "    \"proxy/{port}/status\"\n",
    "    )});\n",
    "    nworkers = 1\n",
    "    opts = dict(n_workers=nworkers,\n",
    "                threads_per_worker=1,\n",
    "                memory_limit='{:d}Gb'.format(local_mem//nworkers),\n",
    "               )\n",
    "        \n",
    "if mode == 'inproc':\n",
    "    client = Client(**opts,\n",
    "                    processes=False)\n",
    "elif mode == 'local':\n",
    "    client = Client(**opts,\n",
    "                    processes=True)\n",
    "elif mode == 'remote':\n",
    "    client = Client('tcp://dask-datacube-dask.labs:8786')\n",
    "else:\n",
    "    client = None\n",
    "    \n",
    "client"
   ]
  },
  {
   "cell_type": "code",
   "execution_count": null,
   "metadata": {},
   "outputs": [],
   "source": [
    "from datacube import Datacube\n",
    "from datacube.utils.geometry import CRS\n",
    "from datacube.api.core import output_geobox\n",
    "from datacube.storage.masking import make_mask\n",
    "from odc.ui import show_datasets\n",
    "from datacube.utils.rio import set_default_rio_config, activate_from_config\n",
    "\n",
    "def worker_setup():\n",
    "    # these settings will be applied in every worker thread\n",
    "    set_default_rio_config(aws={'region_name': 'us-west-2'},\n",
    "                           cloud_defaults=True)\n",
    "\n",
    "dc = Datacube()\n",
    "\n",
    "if client is not None:\n",
    "    # Runs once on every worker process, not per worker thread!\n",
    "    client.register_worker_callbacks(setup=worker_setup)\n",
    "\n",
    "set_default_rio_config(aws={'region_name': 'us-west-2'},\n",
    "                           cloud_defaults=True)\n",
    "activate_from_config()"
   ]
  },
  {
   "cell_type": "code",
   "execution_count": null,
   "metadata": {},
   "outputs": [],
   "source": [
    "dss = dc.find_datasets(product='ls8_usgs_wofs_scene',\n",
    "                       lon=(100, 180), lat=(0, -90), # Australian only\n",
    "                       )\n",
    "len(dss)"
   ]
  },
  {
   "cell_type": "code",
   "execution_count": null,
   "metadata": {},
   "outputs": [],
   "source": [
    "m = show_datasets(dss, \n",
    "                  style={'opacity': 0.3, 'fillOpacity': 0},\n",
    "                  width='400px', \n",
    "                  height='400px', \n",
    "                  # zoom=7,\n",
    "                  scroll_wheel_zoom=False)\n",
    "m"
   ]
  },
  {
   "cell_type": "code",
   "execution_count": null,
   "metadata": {},
   "outputs": [],
   "source": [
    "all_epsgs = set(ds.crs.epsg for ds in dss)\n",
    "assert len(all_epsgs) == 1\n",
    "the_epsg, = all_epsgs\n",
    "crs = CRS('epsg:{}'.format(the_epsg))\n",
    "\n",
    "gbox = output_geobox(output_crs=crs,\n",
    "              resolution=(-30, 30), \n",
    "              align=(15, 15), \n",
    "              datasets=dss)\n",
    "gbox"
   ]
  },
  {
   "cell_type": "code",
   "execution_count": null,
   "metadata": {},
   "outputs": [],
   "source": [
    "srcs = dc.group_datasets(dss, 'time')\n",
    "if quick:\n",
    "    srcs = srcs[:4]\n",
    "    \n",
    "srcs.time.shape, len(dss)"
   ]
  },
  {
   "cell_type": "code",
   "execution_count": null,
   "metadata": {},
   "outputs": [],
   "source": [
    "xx = dc.load_data(srcs, gbox, dss[0].type.measurements,\n",
    "                  dask_chunks={'x': gbox.width, \n",
    "                               'y': gbox.height})\n",
    "xx.water.data"
   ]
  },
  {
   "cell_type": "code",
   "execution_count": null,
   "metadata": {},
   "outputs": [],
   "source": [
    "xx_wet = make_mask(xx.water, wet=True).sum(dim='time', dtype='uint16')\n",
    "xx_dry = make_mask(xx.water, dry=True).sum(dim='time', dtype='uint16')\n",
    "xx_clear = xx_wet + xx_dry\n",
    "xx_freq = xx_wet.astype('float32')/xx_clear\n",
    "\n",
    "display(xx_wet.data)\n",
    "display(xx_freq.data)"
   ]
  },
  {
   "cell_type": "code",
   "execution_count": null,
   "metadata": {},
   "outputs": [],
   "source": [
    "xx_freq.data.visualize(rankdir='LR') if quick else None"
   ]
  },
  {
   "cell_type": "code",
   "execution_count": null,
   "metadata": {},
   "outputs": [],
   "source": [
    "%%time\n",
    "xx_wet, xx_dry, xx_clear, xx_freq = da.compute(xx_wet, xx_dry, xx_clear, xx_freq)"
   ]
  },
  {
   "cell_type": "code",
   "execution_count": null,
   "metadata": {},
   "outputs": [],
   "source": [
    "fig,ax = plt.subplots(2, 2, figsize=(14,14))\n",
    "\n",
    "for ax, im, t in zip(ax.ravel(),\n",
    "                     [xx_wet, xx_dry, xx_clear, xx_freq],\n",
    "                     ['Wet', 'Dry', 'Clear', 'Freq']):\n",
    "    ax.imshow(im.values[::4, ::4],\n",
    "              interpolation='bicubic')\n",
    "    ax.xaxis.set_visible(False)\n",
    "    ax.yaxis.set_visible(False)\n",
    "    ax.set_title(t)"
   ]
  },
  {
   "cell_type": "markdown",
   "metadata": {},
   "source": [
    "---------------------------------------------------------"
   ]
  }
 ],
 "metadata": {
  "kernelspec": {
   "display_name": "Python 3",
   "language": "python",
   "name": "python3"
  },
  "language_info": {
   "codemirror_mode": {
    "name": "ipython",
    "version": 3
   },
   "file_extension": ".py",
   "mimetype": "text/x-python",
   "name": "python",
   "nbconvert_exporter": "python",
   "pygments_lexer": "ipython3",
   "version": "3.6.8"
  }
 },
 "nbformat": 4,
 "nbformat_minor": 4
}
