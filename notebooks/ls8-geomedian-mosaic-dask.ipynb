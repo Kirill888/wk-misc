{
 "cells": [
  {
   "cell_type": "code",
   "execution_count": null,
   "metadata": {},
   "outputs": [],
   "source": [
    "%matplotlib inline\n",
    "from matplotlib import pyplot as plt\n",
    "from IPython.core.display import HTML, Image, display"
   ]
  },
  {
   "cell_type": "code",
   "execution_count": null,
   "metadata": {},
   "outputs": [],
   "source": [
    "from timeit import default_timer as t_now\n",
    "import time\n",
    "import numpy as np\n",
    "import dask\n",
    "import dask.distributed\n",
    "import dask.array as da\n",
    "\n",
    "def to_rgba_u32(r: np.ndarray, \n",
    "                g: np.ndarray, \n",
    "                b: np.ndarray, \n",
    "                clamp: int = 3000, \n",
    "                nodata: int = -999):\n",
    "    a = (r != nodata).astype('uint32')*(0xFF000000)\n",
    "    r,g,b = (np.clip(x, 0, clamp).astype('uint32')*255//clamp \n",
    "             for x in (r,g,b))\n",
    "    \n",
    "    # 4-byte uint containing |a,b,g,r| where a is MSB\n",
    "    out = a\n",
    "    out[:] |= r\n",
    "    out[:] |= g<<8\n",
    "    out[:] |= b<<16\n",
    "    \n",
    "    return out\n",
    "\n",
    "def u32_to_rgba(x):\n",
    "    return x.view('uint8').reshape(*x.shape, 4)"
   ]
  },
  {
   "cell_type": "code",
   "execution_count": null,
   "metadata": {},
   "outputs": [],
   "source": [
    "client = dask.distributed.Client(n_workers=1, \n",
    "                                 threads_per_worker=32, \n",
    "                                 processes=True, \n",
    "                                 ip='127.0.0.1')\n",
    "client"
   ]
  },
  {
   "cell_type": "markdown",
   "metadata": {},
   "source": [
    "### Alternative Client Setup\n",
    "\n",
    "Connect to externally launched cluster:\n",
    "\n",
    "```python\n",
    "client = dask.distributed.Client('127.0.0.1:8786')\n",
    "```\n",
    "\n",
    "Local cluster launched as following:\n",
    "\n",
    "```bash\n",
    "# Scheduler\n",
    "/opt/dea/envs/dask/bin/dask-scheduler --interface lo\n",
    "\n",
    "# Worker ovesubscribed 8 threads per core\n",
    "/opt/dea/envs/dask/bin/dask-worker --interface lo \\\n",
    " --memory-limit 24G \\\n",
    " --nthreads 32 \\\n",
    " --nprocs 1 \\\n",
    " tcp://127.0.0.1:8786\n",
    "```"
   ]
  },
  {
   "cell_type": "code",
   "execution_count": null,
   "metadata": {},
   "outputs": [],
   "source": [
    "# pip install https://github.com/Kirill888/wk-misc/releases/download/v1.0/kk_dtools-1-py3-none-any.whl\n",
    "from kk.dtools import rio_activate, rio_getenv\n",
    "\n",
    "settings = rio_activate(client, aws=dict(region_name='ap-southeast-2'))\n",
    "display(settings[0])"
   ]
  },
  {
   "cell_type": "code",
   "execution_count": null,
   "metadata": {},
   "outputs": [],
   "source": [
    "def cluster_rio_info(client):\n",
    "    oo = rio_getenv(client)\n",
    "    return oo[0]\n",
    "\n",
    "cluster_rio_info(client)"
   ]
  },
  {
   "cell_type": "code",
   "execution_count": null,
   "metadata": {},
   "outputs": [],
   "source": [
    "import datacube\n",
    "from datacube.api.core import get_bounds, output_geobox\n",
    "from datacube.utils.geometry import BoundingBox, bbox_union, CRS\n",
    "from datacube.testutils.io import rio_slurp\n",
    "from datacube.storage import measurement_paths\n",
    "\n",
    "PRODUCT = 'ls8_nbart_geomedian_annual'\n",
    "NATIVE_RES = (-25, 25)\n",
    "CRS = 'EPSG:3577'\n",
    "dc = datacube.Datacube(env='gm')"
   ]
  },
  {
   "cell_type": "code",
   "execution_count": null,
   "metadata": {},
   "outputs": [],
   "source": [
    "%%time\n",
    "dss = dc.find_datasets(product=PRODUCT,\n",
    "                       time=('2017-01-01', '2017-12-31'))\n",
    "\n",
    "display(HTML('''\n",
    "Found: <b>{}</b> datasets <br>\n",
    "CRS: <b>{}</b>\n",
    "'''.format(\n",
    "    len(dss), \n",
    "    str(dss[0].crs)\n",
    ")))"
   ]
  },
  {
   "cell_type": "code",
   "execution_count": null,
   "metadata": {},
   "outputs": [],
   "source": [
    "%%time\n",
    "xx = dc.load(product=PRODUCT,\n",
    "             datasets=dss,\n",
    "             output_crs=CRS,\n",
    "             group_by='solar_day',\n",
    "             #skip_broken_datasets=True,\n",
    "             resolution=tuple(32*n for n in NATIVE_RES),\n",
    "             dask_chunks={'x': 256, 'y': 256, 'time': 1})\n",
    "\n",
    "\n",
    "display(xx)\n",
    "dd = xx.red.data.to_delayed()\n",
    "display(HTML('''\n",
    "<bl>\n",
    "Number of chunks per band: <b>{}x{}x{}</b>\n",
    "'''.format(*dd.shape)\n",
    "))"
   ]
  },
  {
   "cell_type": "code",
   "execution_count": null,
   "metadata": {},
   "outputs": [],
   "source": [
    "%%time\n",
    "cc32 = da.map_blocks(to_rgba_u32, \n",
    "                     xx.red.data, xx.green.data, xx.blue.data, \n",
    "                     clamp=3000, nodata=-999, \n",
    "                     dtype='uint32')\n",
    "\n",
    "display(cc32)"
   ]
  },
  {
   "cell_type": "code",
   "execution_count": null,
   "metadata": {},
   "outputs": [],
   "source": [
    "n_image_files = len(dss)*3\n",
    "\n",
    "display(HTML('''\n",
    "Launching compute for <b>{:,d} x {:,d}</b> raster \n",
    "split across <b>{:,d}</b> files\n",
    "'''.format(*cc32.shape[-2:], n_image_files)))"
   ]
  },
  {
   "cell_type": "code",
   "execution_count": null,
   "metadata": {},
   "outputs": [],
   "source": [
    "t0 = t_now()\n",
    "fut = client.compute(cc32)  # Launch computation, but don't block\n",
    "\n",
    "n_wait = 0\n",
    "while fut.done() is False:\n",
    "    time.sleep(0.1)\n",
    "    n_wait += 1\n",
    "    if n_wait % 10 == 0:\n",
    "        print('.', end='', flush=True)\n",
    "    if n_wait % 100 == 0:\n",
    "        t_elapsed = t_now() - t0\n",
    "        print(': {:.3f} secs'.format(t_elapsed))\n",
    "\n",
    "cc32_ = fut.result()\n",
    "t_elapsed = t_now() - t0\n",
    "\n",
    "print(\"\\nTotal load time: {:.3f} secs\".format(t_elapsed))"
   ]
  },
  {
   "cell_type": "code",
   "execution_count": null,
   "metadata": {},
   "outputs": [],
   "source": [
    "display(HTML(\"\"\"\n",
    "Loaded <b>{:,d}</b> files in <b>{:.3f}</b> secs, <b>{:.1f}</b> files per second\n",
    "\"\"\".format(n_image_files, t_elapsed, n_image_files/t_elapsed)))"
   ]
  },
  {
   "cell_type": "code",
   "execution_count": null,
   "metadata": {},
   "outputs": [],
   "source": [
    "cc8 = u32_to_rgba(cc32_[0,:,:])\n",
    "display(HTML('Saving <b>{:,d} x {:,d}</b> image to disk'.format(*cc8.shape[:2])))"
   ]
  },
  {
   "cell_type": "code",
   "execution_count": null,
   "metadata": {},
   "outputs": [],
   "source": [
    "%%time\n",
    "display(HTML('JPEG'))\n",
    "plt.imsave('gm-ls8-overview.jpg', cc8)"
   ]
  },
  {
   "cell_type": "code",
   "execution_count": null,
   "metadata": {},
   "outputs": [],
   "source": [
    "%%time\n",
    "display(HTML('PNG'))\n",
    "plt.imsave('gm-ls8-overview.png', cc8)"
   ]
  },
  {
   "cell_type": "code",
   "execution_count": null,
   "metadata": {},
   "outputs": [],
   "source": [
    "display(HTML('''\n",
    "Download image: \n",
    "<a href=\"gm-ls8-overview.jpg\" download>jpeg</a>\n",
    "<a href=\"gm-ls8-overview.png\" download>png</a>\n",
    "\n",
    "<img src=\"gm-ls8-overview.jpg\" style=\"width:1024px\">\n",
    "'''))"
   ]
  },
  {
   "cell_type": "markdown",
   "metadata": {},
   "source": [
    "--------------------------------------"
   ]
  },
  {
   "cell_type": "code",
   "execution_count": null,
   "metadata": {},
   "outputs": [],
   "source": [
    "mask = cc8[:,:,3]>0\n",
    "r,g,b = (int(v) for v in \n",
    "         np.round(cc8[mask,:3].mean(axis=0)))\n",
    "\n",
    "display(HTML('''\n",
    "<div>Average Color</div>\n",
    "#{r:02X}{g:02X}{b:02X}\n",
    "<div style=\"width: 200px; \n",
    "height:200px;\n",
    "background:rgb({r:},{g:},{b:});\"></div>\n",
    "'''.format(r=r,g=g,b=b)))"
   ]
  },
  {
   "cell_type": "markdown",
   "metadata": {},
   "source": [
    "----------------------------------------------"
   ]
  }
 ],
 "metadata": {
  "kernelspec": {
   "display_name": "Dask (py3)",
   "language": "python",
   "name": "kk3"
  },
  "language_info": {
   "codemirror_mode": {
    "name": "ipython",
    "version": 3
   },
   "file_extension": ".py",
   "mimetype": "text/x-python",
   "name": "python",
   "nbconvert_exporter": "python",
   "pygments_lexer": "ipython3",
   "version": "3.6.7"
  }
 },
 "nbformat": 4,
 "nbformat_minor": 2
}
