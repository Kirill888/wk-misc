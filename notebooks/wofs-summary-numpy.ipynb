{
 "cells": [
  {
   "cell_type": "code",
   "execution_count": null,
   "metadata": {},
   "outputs": [],
   "source": [
    "%matplotlib inline\n",
    "from matplotlib import pyplot as plt\n",
    "import numpy as np\n",
    "import xarray as xr\n",
    "import os"
   ]
  },
  {
   "cell_type": "code",
   "execution_count": null,
   "metadata": {},
   "outputs": [],
   "source": [
    "from datacube import Datacube\n",
    "from datacube.utils.geometry import CRS\n",
    "from datacube.api.core import output_geobox\n",
    "from datacube.storage.masking import make_mask\n",
    "from odc.ui import show_datasets, with_ui_cbk\n",
    "from datacube.utils.rio import set_default_rio_config, activate_from_config\n",
    "\n",
    "set_default_rio_config(aws={'region_name': 'us-west-2'},\n",
    "                       cloud_defaults=True)\n",
    "\n",
    "dc = Datacube()\n",
    "\n",
    "activate_from_config()"
   ]
  },
  {
   "cell_type": "code",
   "execution_count": null,
   "metadata": {},
   "outputs": [],
   "source": [
    "dss = dc.find_datasets(product='ls8_usgs_wofs_scene',\n",
    "                       lon=(100, 180), lat=(0, -90), # Australian only\n",
    "                      )\n",
    "len(dss)"
   ]
  },
  {
   "cell_type": "code",
   "execution_count": null,
   "metadata": {},
   "outputs": [],
   "source": [
    "m = show_datasets(dss, \n",
    "                  style={'opacity': 0.3, 'fillOpacity': 0},\n",
    "                  width='400px', \n",
    "                  height='400px', \n",
    "                  # zoom=7,\n",
    "                  scroll_wheel_zoom=False)\n",
    "m"
   ]
  },
  {
   "cell_type": "code",
   "execution_count": null,
   "metadata": {},
   "outputs": [],
   "source": [
    "all_epsgs = set(ds.crs.epsg for ds in dss)\n",
    "assert len(all_epsgs) == 1\n",
    "the_epsg, = all_epsgs\n",
    "crs = CRS('epsg:{}'.format(the_epsg))\n",
    "\n",
    "gbox = output_geobox(output_crs=crs,\n",
    "              resolution=(-30, 30), \n",
    "              align=(15, 15), \n",
    "              datasets=dss)\n",
    "gbox"
   ]
  },
  {
   "cell_type": "code",
   "execution_count": null,
   "metadata": {},
   "outputs": [],
   "source": [
    "srcs = dc.group_datasets(dss, 'time')\n",
    "srcs.time.shape, len(dss)"
   ]
  },
  {
   "cell_type": "code",
   "execution_count": null,
   "metadata": {},
   "outputs": [],
   "source": [
    "%%time\n",
    "xx = dc.load_data(srcs, gbox, dss[0].type.measurements, \n",
    "                  progress_cbk=with_ui_cbk())\n",
    "xx"
   ]
  },
  {
   "cell_type": "code",
   "execution_count": null,
   "metadata": {},
   "outputs": [],
   "source": [
    "%%time\n",
    "xx_wet = make_mask(xx.water, wet=True).sum(dim='time', dtype='uint16')"
   ]
  },
  {
   "cell_type": "code",
   "execution_count": null,
   "metadata": {},
   "outputs": [],
   "source": [
    "%%time\n",
    "xx_dry = make_mask(xx.water, dry=True).sum(dim='time', dtype='uint16')"
   ]
  },
  {
   "cell_type": "code",
   "execution_count": null,
   "metadata": {},
   "outputs": [],
   "source": [
    "%%time\n",
    "xx_clear = xx_wet + xx_dry\n",
    "xx_freq = xx_wet.astype('float32')/xx_clear"
   ]
  },
  {
   "cell_type": "code",
   "execution_count": null,
   "metadata": {},
   "outputs": [],
   "source": [
    "fig,ax = plt.subplots(2, 2, figsize=(14,14))\n",
    "\n",
    "for ax, im, t in zip(ax.ravel(),\n",
    "                     [xx_wet, xx_dry, xx_clear, xx_freq],\n",
    "                     ['Wet', 'Dry', 'Clear', 'Freq']):\n",
    "    ax.imshow(im.values[::4, ::4],\n",
    "              interpolation='bicubic')\n",
    "    ax.xaxis.set_visible(False)\n",
    "    ax.yaxis.set_visible(False)\n",
    "    ax.set_title(t)"
   ]
  },
  {
   "cell_type": "markdown",
   "metadata": {},
   "source": [
    "---------------------------------------------------------"
   ]
  }
 ],
 "metadata": {
  "kernelspec": {
   "display_name": "Python 3",
   "language": "python",
   "name": "python3"
  },
  "language_info": {
   "codemirror_mode": {
    "name": "ipython",
    "version": 3
   },
   "file_extension": ".py",
   "mimetype": "text/x-python",
   "name": "python",
   "nbconvert_exporter": "python",
   "pygments_lexer": "ipython3",
   "version": "3.6.8"
  }
 },
 "nbformat": 4,
 "nbformat_minor": 4
}
