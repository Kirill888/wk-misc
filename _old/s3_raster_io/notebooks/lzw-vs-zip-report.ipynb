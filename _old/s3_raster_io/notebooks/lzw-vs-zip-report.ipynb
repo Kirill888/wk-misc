{
 "cells": [
  {
   "cell_type": "markdown",
   "metadata": {},
   "source": [
    "## Experiment Setup\n",
    "\n",
    "- Wofs LS5, full history query\n",
    "- Tile -9 -18, chunk (8,2)\n",
    "- Image Properties\n",
    "    - 4000x4000 single band uint8\n",
    "    - Chunk size 256x256\n",
    "    - No pixel differencing applied before compressing\n",
    "    - Format comparion\n",
    "        - LZW with GDAL XML metadata\n",
    "        - ZIP (level 9) with GeoTiff only metadata\n",
    "- 1416 time slices\n",
    "- Access one chunk from each time slice\n",
    "- M5.xlarge instance 4 cores 16G ram\n",
    "- Chunk with largest compressed size was chosen\n",
    "- S3 bucket and EC2 both in Sydney region\n",
    "- Data location\n",
    "    - LZW: http://dea-public-data.s3-website-ap-southeast-2.amazonaws.com/?prefix=wofs-test/LS5_TM_WATER/-9_-18/\n",
    "    - ZIP: http://dea-public-data.s3-website-ap-southeast-2.amazonaws.com/?prefix=bench-data/LS5_TM_WATER/-9_-18/"
   ]
  },
  {
   "cell_type": "code",
   "execution_count": null,
   "metadata": {},
   "outputs": [],
   "source": [
    "%matplotlib inline\n",
    "from matplotlib import pyplot as plt\n",
    "import numpy as np\n",
    "import pickle\n",
    "from utils import bench"
   ]
  },
  {
   "cell_type": "markdown",
   "metadata": {},
   "source": [
    "## Load data"
   ]
  },
  {
   "cell_type": "code",
   "execution_count": null,
   "metadata": {},
   "outputs": [],
   "source": [
    "files = ['./results/M5XL_LZW_-9_-18b8_2B1__01_001.pickle',\n",
    " './results/M5XL_ZIP_-9_-18b8_2B1__01_001.pickle']\n",
    "d_lzw, d_zip = [pickle.load(open(file, 'rb')) for file in files]\n",
    "sts = [bench.unpack_stats(d,ms=True) for d in [d_lzw, d_zip]]"
   ]
  },
  {
   "cell_type": "markdown",
   "metadata": {},
   "source": [
    "## Comparison LZW vs ZIP "
   ]
  },
  {
   "cell_type": "code",
   "execution_count": null,
   "metadata": {},
   "outputs": [],
   "source": [
    "reports = (bench.gen_stats_report(d_lzw, 'LZW + GDAL XML'),\n",
    "           bench.gen_stats_report(d_zip, 'ZIP + GeoTiff only'))\n",
    "print(bench.join_reports(*reports))\n",
    "fig = plt.figure(figsize=(12,6))\n",
    "bench.plot_comparison(fig, sts, names=['LZW', 'ZIP'], threshs=[17000, 250, 80])"
   ]
  },
  {
   "cell_type": "markdown",
   "metadata": {},
   "source": [
    "## Analysis\n",
    "\n",
    "First off it should be understood that we are conflating compression regime and metadata format in this comparison. But comparing across 4 different combinations of the two is too painful. Besides open performance should not be affected by compression settings, only by header size, on the other hand read performance should be affected by compression but not by metadata format.\n",
    "\n",
    "- ZIP (DEFLATE) produces about 9% smaller chunks (saves S3 costs)\n",
    "\n",
    "- Smaller header size results in significant speed up of `open` operation\n",
    "  - 35% reduction in average `open` latency, from 137.5 to 89.2 ms\n",
    "\n",
    "- Smaller chunks translate into better `read` performance\n",
    "  - 31% reduction in average `read` latency, from 34.8 down to 23.9 ms \n",
    "\n"
   ]
  },
  {
   "cell_type": "markdown",
   "metadata": {},
   "source": [
    "## Appendix\n",
    "\n",
    "Following command was used to produce files in `ZIP` dataset:\n",
    "\n",
    "```bash\n",
    "gdal_translate \\\n",
    "    -co COMPRESS=DEFLATE \\\n",
    "    -co ZLEVEL=9 \\\n",
    "    -co PREDICTOR=1 \\\n",
    "    -co TILED=YES \\\n",
    "    -co BLOCKXSIZE=256 \\\n",
    "    -co BLOCKYSIZE=256 \\\n",
    "    -co PROFILE=GeoTiff \\\n",
    "    \"${src}\" \"${dst}\"\n",
    "```"
   ]
  }
 ],
 "metadata": {
  "kernelspec": {
   "display_name": "Python 3",
   "language": "python",
   "name": "python3"
  },
  "language_info": {
   "codemirror_mode": {
    "name": "ipython",
    "version": 3
   },
   "file_extension": ".py",
   "mimetype": "text/x-python",
   "name": "python",
   "nbconvert_exporter": "python",
   "pygments_lexer": "ipython3",
   "version": "3.6.3"
  }
 },
 "nbformat": 4,
 "nbformat_minor": 2
}
