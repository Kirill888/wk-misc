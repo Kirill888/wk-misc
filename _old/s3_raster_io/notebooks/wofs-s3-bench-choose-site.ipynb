{
 "cells": [
  {
   "cell_type": "code",
   "execution_count": null,
   "metadata": {},
   "outputs": [],
   "source": [
    "%matplotlib inline\n",
    "\n",
    "from matplotlib import pyplot as plt\n",
    "import os\n",
    "\n",
    "tile=(-9,-18) #'-8_-18' #'5_-37'\n",
    "\n",
    "os.environ['tile']= '%d_%d' % tile"
   ]
  },
  {
   "cell_type": "code",
   "execution_count": null,
   "metadata": {},
   "outputs": [],
   "source": [
    "%%bash\n",
    "\n",
    "ls_s3() {\n",
    "  local prefix=$1\n",
    "  aws s3 ls \"${prefix}\" | awk \"{print \\\"$prefix\\\"\"'$4}'\n",
    "}\n",
    "\n",
    "vsis3_filter(){\n",
    "  sed 's/^s3:\\//\\/vsis3/g'\n",
    "}\n",
    "\n",
    "\n",
    "base=\"dea-public-data/bench-data/LS5_TM_WATER\"\n",
    "tile=\"${tile:-'-8_-18'}\"\n",
    "\n",
    "\n",
    "dump=\"s3_tile_zip_${tile}.txt\"\n",
    "\n",
    "\n",
    "[ -e \"${dump}\" ] && echo \"Tile listing exists, exiting early: ${tile}\" && exit 0\n",
    "\n",
    "ls_s3 \"s3://${base}/${tile}/\" > \"$dump\"\n",
    "\n",
    "head -n 3 \"$dump\"\n",
    "echo '...'\n",
    "tail -n 2 \"$dump\""
   ]
  },
  {
   "cell_type": "code",
   "execution_count": null,
   "metadata": {},
   "outputs": [],
   "source": [
    "import rasterio\n",
    "import numpy as np"
   ]
  },
  {
   "cell_type": "code",
   "execution_count": null,
   "metadata": {},
   "outputs": [],
   "source": [
    "with open('s3_tile_zip_%d_%d.txt'%tile,'r') as f:\n",
    "    files = [s.rstrip() for s in f.readlines()]\n",
    "    \n",
    "files[:3], len(files)"
   ]
  },
  {
   "cell_type": "code",
   "execution_count": null,
   "metadata": {},
   "outputs": [],
   "source": [
    "f = rasterio.open(files[6])\n",
    "print(f.bounds, f.shape)\n",
    "\n",
    "bsz = [(i, j, f.block_size(1, i,j)) for j in range(16) for i in range(16)]\n",
    "\n",
    "bsz = sorted(bsz, key=lambda s: s[-1], reverse=True)\n",
    "\n",
    "im = f.read(1)\n",
    "\n",
    "plt.imshow(im)\n",
    "plt.colorbar()\n",
    "bsz[:10]\n",
    "\n"
   ]
  },
  {
   "cell_type": "code",
   "execution_count": null,
   "metadata": {},
   "outputs": [],
   "source": [
    "b = np.ndarray(f.block_shapes[0], dtype=f.dtypes[0])\n",
    "\n",
    "fig = plt.figure(figsize=(15,3))\n",
    "\n",
    "for i in range(5):\n",
    "    f.read(1, window=f.block_window(1, *(bsz[i][:2])), out=b)\n",
    "    ax = fig.add_subplot(1,5,i+1)\n",
    "    ax.set_title('block: %d,%d'%(bsz[i][:2]))\n",
    "    ax.imshow(b.copy(), vmin=0, vmax=255)\n",
    "    ax.xaxis.set_visible(False)\n",
    "    ax.yaxis.set_visible(False)\n",
    "fig.tight_layout()\n",
    "    \n",
    "bsz[:5]"
   ]
  },
  {
   "cell_type": "code",
   "execution_count": null,
   "metadata": {},
   "outputs": [],
   "source": [
    "!ls s3_tile*"
   ]
  },
  {
   "cell_type": "code",
   "execution_count": null,
   "metadata": {},
   "outputs": [],
   "source": [
    "f.compression"
   ]
  },
  {
   "cell_type": "code",
   "execution_count": null,
   "metadata": {},
   "outputs": [],
   "source": []
  }
 ],
 "metadata": {
  "kernelspec": {
   "display_name": "Python 3",
   "language": "python",
   "name": "python3"
  },
  "language_info": {
   "codemirror_mode": {
    "name": "ipython",
    "version": 3
   },
   "file_extension": ".py",
   "mimetype": "text/x-python",
   "name": "python",
   "nbconvert_exporter": "python",
   "pygments_lexer": "ipython3",
   "version": "3.5.2"
  }
 },
 "nbformat": 4,
 "nbformat_minor": 2
}
