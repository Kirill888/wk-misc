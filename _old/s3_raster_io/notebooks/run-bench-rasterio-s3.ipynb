{
 "cells": [
  {
   "cell_type": "code",
   "execution_count": null,
   "metadata": {},
   "outputs": [],
   "source": [
    "%matplotlib inline\n",
    "\n",
    "from matplotlib import pyplot as plt\n",
    "import numpy as np\n",
    "from types import SimpleNamespace\n",
    "import pickle\n",
    "from concurrent.futures import ThreadPoolExecutor\n",
    "\n",
    "from utils.bench import mk_fname, gen_stats_report, plot_results, process_bunch, slurp_lines\n",
    "\n",
    "def without(xx, skip):\n",
    "    return SimpleNamespace(**{k: v for k,v in xx.__dict__.items() if k not in skip})"
   ]
  },
  {
   "cell_type": "code",
   "execution_count": null,
   "metadata": {},
   "outputs": [],
   "source": [
    "pp = SimpleNamespace(tile=(-9,-18),\n",
    "                     block=(8,2), \n",
    "                     block_shape=(256,256),\n",
    "                     dtype='uint8',\n",
    "                     nthreads=1,\n",
    "                     band=1\n",
    "                    )"
   ]
  },
  {
   "cell_type": "code",
   "execution_count": null,
   "metadata": {},
   "outputs": [],
   "source": [
    "files = slurp_lines('s3_tile_{:d}_{:d}_{}.txt', *pp.tile, 'zip')\n",
    "files[:3], len(files), pp.block_shape"
   ]
  },
  {
   "cell_type": "code",
   "execution_count": null,
   "metadata": {},
   "outputs": [],
   "source": [
    "pp.nthreads = 16\n",
    "pool = ThreadPoolExecutor(max_workers=pp.nthreads)"
   ]
  },
  {
   "cell_type": "code",
   "execution_count": null,
   "metadata": {},
   "outputs": [],
   "source": [
    "%%time\n",
    "xx = process_bunch(files, pp, pool=pool)"
   ]
  },
  {
   "cell_type": "code",
   "execution_count": null,
   "metadata": {},
   "outputs": [],
   "source": [
    "xx.t_total, xx.data.shape"
   ]
  },
  {
   "cell_type": "code",
   "execution_count": null,
   "metadata": {},
   "outputs": [],
   "source": [
    "fnames = {ext:mk_fname(xx.params, ext=ext, prefix='M5XL_ZIP') for ext in ['pickle', 'npz']}\n",
    "\n",
    "pickle.dump(without(xx, ['data']),\n",
    "            open(fnames['pickle'], 'wb'))\n",
    "\n",
    "np.savez(fnames['npz'], data=xx.data)\n",
    "\n",
    "fnames"
   ]
  },
  {
   "cell_type": "code",
   "execution_count": null,
   "metadata": {},
   "outputs": [],
   "source": [
    "print(gen_stats_report(xx))\n",
    "plot_results(xx.stats, fig=plt.figure(figsize=(12,8)));"
   ]
  }
 ],
 "metadata": {
  "kernelspec": {
   "display_name": "Python 3",
   "language": "python",
   "name": "python3"
  },
  "language_info": {
   "codemirror_mode": {
    "name": "ipython",
    "version": 3
   },
   "file_extension": ".py",
   "mimetype": "text/x-python",
   "name": "python",
   "nbconvert_exporter": "python",
   "pygments_lexer": "ipython3",
   "version": "3.5.2"
  }
 },
 "nbformat": 4,
 "nbformat_minor": 2
}
